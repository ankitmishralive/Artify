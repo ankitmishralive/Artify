{
 "cells": [
  {
   "cell_type": "code",
   "execution_count": 46,
   "metadata": {},
   "outputs": [],
   "source": [
    "import os"
   ]
  },
  {
   "cell_type": "code",
   "execution_count": 47,
   "metadata": {},
   "outputs": [],
   "source": [
    "# contents = os.listdir(\"./static/Translater/\")\n",
    "content=[file for file in os.listdir(\"./static/Translater\") if file.endswith(\".png\")]\n"
   ]
  },
  {
   "cell_type": "code",
   "execution_count": 48,
   "metadata": {},
   "outputs": [
    {
     "data": {
      "text/plain": [
       "['pdftoimage_0.png', 'pdftoimage_1.png']"
      ]
     },
     "execution_count": 48,
     "metadata": {},
     "output_type": "execute_result"
    }
   ],
   "source": [
    "content"
   ]
  },
  {
   "cell_type": "code",
   "execution_count": 49,
   "metadata": {},
   "outputs": [],
   "source": [
    "import easyocr"
   ]
  },
  {
   "cell_type": "code",
   "execution_count": 62,
   "metadata": {},
   "outputs": [
    {
     "name": "stderr",
     "output_type": "stream",
     "text": [
      "Neither CUDA nor MPS are available - defaulting to CPU. Note: This module is much faster with a GPU.\n"
     ]
    }
   ],
   "source": [
    "reader = easyocr.Reader(['en','mr','hi']) "
   ]
  },
  {
   "cell_type": "code",
   "execution_count": 65,
   "metadata": {},
   "outputs": [],
   "source": [
    "\n",
    "def image_to_text(image_path):\n",
    "    # reader = easyocr.Reader(language)\n",
    "    result = reader.readtext(image_path,batch_size=90,canvas_size= 1800,decoder='greedy',detail=0)\n",
    "    # Extract and concatenate the recognized text\n",
    "    text = ' '.join([item[1] for item in result])\n",
    "    return text"
   ]
  },
  {
   "cell_type": "code",
   "execution_count": 52,
   "metadata": {},
   "outputs": [],
   "source": [
    "\n",
    "# def image_to_text(image_path,language):\n",
    "#     # reader = easyocr.Reader(language)\n",
    "#     result = reader.readtext(image_path)\n",
    "#     # Extract and concatenate the recognized text\n",
    "#     text = ' '.join([item[1] for item in result])\n",
    "#     return text"
   ]
  },
  {
   "cell_type": "code",
   "execution_count": 66,
   "metadata": {},
   "outputs": [],
   "source": [
    "text = []\n",
    "language=['en','hi','mr']"
   ]
  },
  {
   "cell_type": "code",
   "execution_count": 67,
   "metadata": {},
   "outputs": [],
   "source": [
    "for img in content:\n",
    "    text.append(image_to_text(img))"
   ]
  },
  {
   "cell_type": "code",
   "execution_count": null,
   "metadata": {},
   "outputs": [
    {
     "data": {
      "text/plain": [
       "'FORMAT Dr INDRMATiDN Or CANDiDATLS FOR TRAININC IUn Letter Heald ) Name (Training \"|[\"0000*7 Cwiapltlc 11/71    1 67 0\"1051 SLall Iiall Nlolilt 877\"0000\\' 7*7[}]101 *7 \"10 Uode aDproYEd Lccturet wilh Prelir sUtl NSBTL Nrllls NYIN Thcrcoy dcclare thnt thc detils furnished abnvc Ire tlc best of mi knowledgc ISealotte InsUtLILe | ILlame Slenaturc ot Fnncipal ) AT rainin -'"
      ]
     },
     "execution_count": 36,
     "metadata": {},
     "output_type": "execute_result"
    }
   ],
   "source": [
    "text[1]"
   ]
  },
  {
   "cell_type": "code",
   "execution_count": null,
   "metadata": {},
   "outputs": [
    {
     "name": "stdout",
     "output_type": "stream",
     "text": [
      "FORMAT Dr INDRMATiDN Or CANDiDATLS FOR TRAININC IUn Letter Heald ) Name (Training \"|[\"0000*7 Cwiapltlc 11/71    1 67 0\"1051 SLall Iiall Nlolilt 877\"0000' 7*7[}]101 *7 \"10 Uode aDproYEd Lccturet wilh Prelir sUtl NSBTL Nrllls NYIN Thcrcoy dcclare thnt thc detils furnished abnvc Ire tlc best of mi knowledgc ISealotte InsUtLILe | ILlame Slenaturc ot Fnncipal ) AT rainin -\n"
     ]
    }
   ],
   "source": [
    "print(text[1])"
   ]
  },
  {
   "cell_type": "code",
   "execution_count": null,
   "metadata": {},
   "outputs": [
    {
     "name": "stdout",
     "output_type": "stream",
     "text": [
      "महाराष्ट्र राज्य तंत्र शिक्षण मंडळ ( स्यायत (IS0: ९००१२०१५ ) (SOJIEC २७००१ २०१३) था मजला श्ासकोय तंत्र निऊतन उमारत ४९ खरवाडा. वाद्र (पुव). मुंबइ- ४०० ०५१ द कः०२२६२५४२ r०० २७० Emailt scoretaryt L0' संकेन स्थळ :www msbtc orin क्र. नरानाशम |का-५ २FDTP २०२३ २४/४२ |3 दिनांक :१ + DEC २०२३ परिपत्रक विषयः- मंडच्ाशी सालग्नित तंत्रनिकेतनातोल अध्यापकांसाठा खालो नमुद तंत्रनिकेतन संस्थांमध्ये शिक्षक विकास मराक्षण कार्यक्रम ( Fueulty Development Training Program ) आयोजित ज्रणेबावत मंडलाच्या अन्यासकर्मांचो अमलवजावणी प्रभावोपणे होण्याकरेिता मंडळामाफंत गेळोगेळो निनिन सस्थामाफन अभ्यासफ़माताल निपय आशाक पारणामचचारक रकावण्गालारना नसच नगान Teaching I caming Process सुधारण्याकरिता अथ्यापञचांचे प्शिक्षण आयोजिन करण्यात येत्ते. या प्रशिक्षणाचा फायद्ा अथ्यापकांच्या प्रगल्भतत् वाट होऊन शवटो विद्याथ्यांची शक्षणिक प्रगतो होण्याकरिता होतो. या पाश्वंभूमीबर सोयत जोडलेल्या यादोतोल नमृद तंत्ननिकेतन संस्थांमध्ये शिक्षफ यिफास प्रशिक्षण फार्यफरमाचे आयोजन ऊरण्यान आल आह॰ सदर माराक्षणाच वळापना् जाडन आह. याचावत आपणांस कळविण्यान येन को॰ आपल्या संस्येतील इच्चक अधिव्याच्यातांची नावे महाराष्ट्र तंत्र शिक्षण मंडळाच्या येब सारंटवर lmportant Link  भागात SCHEME IMPLEMENTATION  लिंकयर जाऊन कराव, \" Log In* कल्यानतर \"Industrial Tranining Registratrion\" या लिंकवर सोबतच्या पत्रासह IScanned रof principal letterJ सादर करावात करण्याकराता सस्थस Academic Monitoring कराता login ID & lasswurd चापराचा \" प्रथम येईल त्यास प्राथान्य या तत्वावर प्रशिक्षणायाचो निवड करण्यात येइल. प्रत्यक संस्थच्या दान अधिव्याख्यानांचो   नियड प्रशिक्षणाकरीता करण्यात येईल उर्वरित अथिव्याख्यानांना जागा रिक्त असल्यास प्रशिक्षणासाठी त्यांचो निवड करण्यात यइल. आयाजज संस्थच्य कमाल चार आधव्यास्याताच प्राशकणाऱारता नवड करण्यात यइल. संबंधित अधिव्याख्यातांनी आपल्या विभागातंगत येणाऱ्या संस्थाभध्येच प्राध्यान्याने प्रशिक्षण कार्यक्रमासाठी नावे सादर   करावी. तसच प्राचायाच्या शिफारसीच्या पत्राशियाय कोणत्याही अधिव्याण्यातांची नावे प्रशिक्षणाकरिता ग्राहय घरली जाणार नाहोत. डों. महेंद्र सा.चितलांगे) सांचय मराराष्ट्र राज्य तंत्र ाशक्षण मंडळ मुंबईं. माहितीकरोता:- मा. संचालक म.रातंत्रशक्षण मंडळ, मुंबई. ~T01=0*- सायत सज्य -[28 यिवरण Co) दिलेला -*[,02\n"
     ]
    }
   ],
   "source": [
    "print(text[0])"
   ]
  },
  {
   "cell_type": "code",
   "execution_count": null,
   "metadata": {},
   "outputs": [
    {
     "name": "stdout",
     "output_type": "stream",
     "text": [
      "महाराष्ट्र राज्य तंत्र शिक्षण मंडळ ( स्यायत (IS0: ९००१२०१५ ) (SOJIEC २७००१ २०१३) था मजला श्ासकोय तंत्र निऊतन उमारत ४९ खरवाडा. वाद्र (पुव). मुंबइ- ४०० ०५१ द कः०२२६२५४२ r०० २७० Emailt scoretaryt L0' संकेन स्थळ :www msbtc orin क्र. नरानाशम |का-५ २FDTP २०२३ २४/४२ |3 दिनांक :१ + DEC २०२३ परिपत्रक विषयः- मंडच्ाशी सालग्नित तंत्रनिकेतनातोल अध्यापकांसाठा खालो नमुद तंत्रनिकेतन संस्थांमध्ये शिक्षक विकास मराक्षण कार्यक्रम ( Fueulty Development Training Program ) आयोजित ज्रणेबावत मंडलाच्या अन्यासकर्मांचो अमलवजावणी प्रभावोपणे होण्याकरेिता मंडळामाफंत गेळोगेळो निनिन सस्थामाफन अभ्यासफ़माताल निपय आशाक पारणामचचारक रकावण्गालारना नसच नगान Teaching I caming Process सुधारण्याकरिता अथ्यापञचांचे प्शिक्षण आयोजिन करण्यात येत्ते. या प्रशिक्षणाचा फायद्ा अथ्यापकांच्या प्रगल्भतत् वाट होऊन शवटो विद्याथ्यांची शक्षणिक प्रगतो होण्याकरिता होतो. या पाश्वंभूमीबर सोयत जोडलेल्या यादोतोल नमृद तंत्ननिकेतन संस्थांमध्ये शिक्षफ यिफास प्रशिक्षण फार्यफरमाचे आयोजन ऊरण्यान आल आह॰ सदर माराक्षणाच वळापना् जाडन आह. याचावत आपणांस कळविण्यान येन को॰ आपल्या संस्येतील इच्चक अधिव्याच्यातांची नावे महाराष्ट्र तंत्र शिक्षण मंडळाच्या येब सारंटवर lmportant Link  भागात SCHEME IMPLEMENTATION  लिंकयर जाऊन कराव, \" Log In* कल्यानतर \"Industrial Tranining Registratrion\" या लिंकवर सोबतच्या पत्रासह IScanned रof principal letterJ सादर करावात करण्याकराता सस्थस Academic Monitoring कराता login ID & lasswurd चापराचा \" प्रथम येईल त्यास प्राथान्य या तत्वावर प्रशिक्षणायाचो निवड करण्यात येइल. प्रत्यक संस्थच्या दान अधिव्याख्यानांचो   नियड प्रशिक्षणाकरीता करण्यात येईल उर्वरित अथिव्याख्यानांना जागा रिक्त असल्यास प्रशिक्षणासाठी त्यांचो निवड करण्यात यइल. आयाजज संस्थच्य कमाल चार आधव्यास्याताच प्राशकणाऱारता नवड करण्यात यइल. संबंधित अधिव्याख्यातांनी आपल्या विभागातंगत येणाऱ्या संस्थाभध्येच प्राध्यान्याने प्रशिक्षण कार्यक्रमासाठी नावे सादर   करावी. तसच प्राचायाच्या शिफारसीच्या पत्राशियाय कोणत्याही अधिव्याण्यातांची नावे प्रशिक्षणाकरिता ग्राहय घरली जाणार नाहोत. डों. महेंद्र सा.चितलांगे) सांचय मराराष्ट्र राज्य तंत्र ाशक्षण मंडळ मुंबईं. माहितीकरोता:- मा. संचालक म.रातंत्रशक्षण मंडळ, मुंबई. ~T01=0*- सायत सज्य -[28 यिवरण Co) दिलेला -*[,02\n"
     ]
    }
   ],
   "source": [
    "print(text[0])"
   ]
  },
  {
   "cell_type": "code",
   "execution_count": null,
   "metadata": {},
   "outputs": [],
   "source": [
    "import concurrent.futures\n",
    "import easyocr\n",
    "\n",
    "def image_to_text(image_path, language):\n",
    "    reader = easyocr.Reader(language)\n",
    "    result = reader.readtext(image_path)\n",
    "    text = ' '.join([item[1] for item in result])\n",
    "    return text\n",
    "\n",
    "def process_images_threaded(content, language):\n",
    "    text = []\n",
    "    with concurrent.futures.ThreadPoolExecutor() as executor:\n",
    "        # Use executor.map for parallel execution in threads\n",
    "        results = list(executor.map(lambda img: image_to_text(img, language), content))\n",
    "        text.extend(results)\n",
    "    return text\n"
   ]
  },
  {
   "cell_type": "code",
   "execution_count": null,
   "metadata": {},
   "outputs": [
    {
     "name": "stderr",
     "output_type": "stream",
     "text": [
      "Neither CUDA nor MPS are available - defaulting to CPU. Note: This module is much faster with a GPU.\n",
      "Neither CUDA nor MPS are available - defaulting to CPU. Note: This module is much faster with a GPU.\n",
      "Neither CUDA nor MPS are available - defaulting to CPU. Note: This module is much faster with a GPU.\n",
      "Neither CUDA nor MPS are available - defaulting to CPU. Note: This module is much faster with a GPU.\n"
     ]
    }
   ],
   "source": [
    "result = process_images_threaded(content, language)"
   ]
  },
  {
   "cell_type": "code",
   "execution_count": null,
   "metadata": {},
   "outputs": [],
   "source": [
    "# for img in content:\n",
    "#     text.append(image_to_text(img,language))"
   ]
  },
  {
   "cell_type": "code",
   "execution_count": null,
   "metadata": {},
   "outputs": [],
   "source": [
    "# text[0]"
   ]
  },
  {
   "cell_type": "code",
   "execution_count": null,
   "metadata": {},
   "outputs": [],
   "source": [
    "# import aiohttp\n",
    "# import asyncio\n",
    "# import easyocr\n",
    "\n",
    "# async def image_to_text_async(image_path, language):\n",
    "#     async with aiohttp.ClientSession() as session:\n",
    "#         async with session.get(f'./static/Translater{image_path}') as response:\n",
    "#             # Simulating an asynchronous OCR operation with asyncio.sleep\n",
    "#             await asyncio.sleep(1)\n",
    "\n",
    "#             # Replace the following line with the actual OCR logic using your library\n",
    "#             result = [('dummy', 'text', (0, 0, 0, 0))]\n",
    "\n",
    "#             # Extract and concatenate the recognized text\n",
    "#             text = ' '.join([item[1] for item in result])\n",
    "#             return text\n",
    "\n",
    "# async def process_images_async(content, language):\n",
    "#     text = []\n",
    "#     tasks = []\n",
    "\n",
    "#     for img in content:\n",
    "#         task = image_to_text_async(img, language)\n",
    "#         tasks.append(task)\n",
    "\n",
    "#     # Gather all the asynchronous tasks\n",
    "#     results = await asyncio.gather(*tasks)\n",
    "\n",
    "#     # Append the results to the text list\n",
    "#     text.extend(results)\n",
    "\n",
    "#     return text\n",
    "\n",
    "# # Example usage\n",
    "\n",
    "# # Run the event loop\n",
    "# result = asyncio.run(process_images_async(content, language))\n",
    "# print(result)\n"
   ]
  },
  {
   "cell_type": "code",
   "execution_count": null,
   "metadata": {},
   "outputs": [],
   "source": [
    "# result"
   ]
  },
  {
   "cell_type": "code",
   "execution_count": null,
   "metadata": {},
   "outputs": [],
   "source": []
  },
  {
   "cell_type": "code",
   "execution_count": null,
   "metadata": {},
   "outputs": [],
   "source": []
  }
 ],
 "metadata": {
  "kernelspec": {
   "display_name": "Python 3",
   "language": "python",
   "name": "python3"
  },
  "language_info": {
   "codemirror_mode": {
    "name": "ipython",
    "version": 3
   },
   "file_extension": ".py",
   "mimetype": "text/x-python",
   "name": "python",
   "nbconvert_exporter": "python",
   "pygments_lexer": "ipython3",
   "version": "3.11.5"
  }
 },
 "nbformat": 4,
 "nbformat_minor": 2
}
